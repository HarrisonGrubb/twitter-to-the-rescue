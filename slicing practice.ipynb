{
 "cells": [
  {
   "cell_type": "code",
   "execution_count": 1,
   "metadata": {},
   "outputs": [],
   "source": [
    "import pandas as pd"
   ]
  },
  {
   "cell_type": "code",
   "execution_count": 2,
   "metadata": {},
   "outputs": [],
   "source": [
    "data = pd.read_csv('data/data.csv')"
   ]
  },
  {
   "cell_type": "code",
   "execution_count": 3,
   "metadata": {},
   "outputs": [
    {
     "data": {
      "text/html": [
       "<div>\n",
       "<style scoped>\n",
       "    .dataframe tbody tr th:only-of-type {\n",
       "        vertical-align: middle;\n",
       "    }\n",
       "\n",
       "    .dataframe tbody tr th {\n",
       "        vertical-align: top;\n",
       "    }\n",
       "\n",
       "    .dataframe thead th {\n",
       "        text-align: right;\n",
       "    }\n",
       "</style>\n",
       "<table border=\"1\" class=\"dataframe\">\n",
       "  <thead>\n",
       "    <tr style=\"text-align: right;\">\n",
       "      <th></th>\n",
       "      <th>id</th>\n",
       "      <th>text</th>\n",
       "      <th>time</th>\n",
       "    </tr>\n",
       "  </thead>\n",
       "  <tbody>\n",
       "    <tr>\n",
       "      <th>0</th>\n",
       "      <td>1142506835565514755</td>\n",
       "      <td>Manhattan-bound F trains are delayed while our...</td>\n",
       "      <td>2019-06-22 18:57:11</td>\n",
       "    </tr>\n",
       "    <tr>\n",
       "      <th>1</th>\n",
       "      <td>1142496358294851584</td>\n",
       "      <td>Northbound F trains are proceeding after EMS a...</td>\n",
       "      <td>2019-06-22 18:15:33</td>\n",
       "    </tr>\n",
       "    <tr>\n",
       "      <th>2</th>\n",
       "      <td>1142491664822546432</td>\n",
       "      <td>Northbound F trains are delayed while we get E...</td>\n",
       "      <td>2019-06-22 17:56:54</td>\n",
       "    </tr>\n",
       "    <tr>\n",
       "      <th>3</th>\n",
       "      <td>1142485457118408704</td>\n",
       "      <td>Northbound [C] trains have resumed regular ser...</td>\n",
       "      <td>2019-06-22 17:32:13</td>\n",
       "    </tr>\n",
       "    <tr>\n",
       "      <th>4</th>\n",
       "      <td>1142496358294851584</td>\n",
       "      <td>Northbound F trains are proceeding after EMS a...</td>\n",
       "      <td>2019-06-22 18:15:33</td>\n",
       "    </tr>\n",
       "  </tbody>\n",
       "</table>\n",
       "</div>"
      ],
      "text/plain": [
       "                    id                                               text  \\\n",
       "0  1142506835565514755  Manhattan-bound F trains are delayed while our...   \n",
       "1  1142496358294851584  Northbound F trains are proceeding after EMS a...   \n",
       "2  1142491664822546432  Northbound F trains are delayed while we get E...   \n",
       "3  1142485457118408704  Northbound [C] trains have resumed regular ser...   \n",
       "4  1142496358294851584  Northbound F trains are proceeding after EMS a...   \n",
       "\n",
       "                  time  \n",
       "0  2019-06-22 18:57:11  \n",
       "1  2019-06-22 18:15:33  \n",
       "2  2019-06-22 17:56:54  \n",
       "3  2019-06-22 17:32:13  \n",
       "4  2019-06-22 18:15:33  "
      ]
     },
     "execution_count": 3,
     "metadata": {},
     "output_type": "execute_result"
    }
   ],
   "source": [
    "data.head()"
   ]
  },
  {
   "cell_type": "code",
   "execution_count": 10,
   "metadata": {},
   "outputs": [],
   "source": [
    "tweet_list = data.to_dict('index')"
   ]
  },
  {
   "cell_type": "code",
   "execution_count": 12,
   "metadata": {},
   "outputs": [
    {
     "name": "stdout",
     "output_type": "stream",
     "text": [
      "{'id': 1142506835565514755, 'text': 'Manhattan-bound F trains are delayed while our crews work to correct a signal problem at Kings Highway.', 'time': '2019-06-22 18:57:11'}\n"
     ]
    }
   ],
   "source": [
    "print(tweet_list[0])"
   ]
  },
  {
   "cell_type": "code",
   "execution_count": null,
   "metadata": {},
   "outputs": [],
   "source": [
    "delay_words = ['delay', '']"
   ]
  }
 ],
 "metadata": {
  "kernelspec": {
   "display_name": "Python 3",
   "language": "python",
   "name": "python3"
  },
  "language_info": {
   "codemirror_mode": {
    "name": "ipython",
    "version": 3
   },
   "file_extension": ".py",
   "mimetype": "text/x-python",
   "name": "python",
   "nbconvert_exporter": "python",
   "pygments_lexer": "ipython3",
   "version": "3.7.3"
  }
 },
 "nbformat": 4,
 "nbformat_minor": 2
}
